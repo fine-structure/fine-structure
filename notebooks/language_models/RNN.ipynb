{
 "cells": [
  {
   "cell_type": "code",
   "execution_count": 1,
   "metadata": {},
   "outputs": [
    {
     "name": "stderr",
     "output_type": "stream",
     "text": [
      "/home/aklenitskiy/anaconda3/lib/python3.7/site-packages/statsmodels/tools/_testing.py:19: FutureWarning: pandas.util.testing is deprecated. Use the functions in the public API at pandas.testing instead.\n",
      "  import pandas.util.testing as tm\n"
     ]
    }
   ],
   "source": [
    "import os\n",
    "\n",
    "import matplotlib.pyplot as plt\n",
    "%matplotlib inline\n",
    "import numpy as np\n",
    "import pandas as pd\n",
    "import seaborn as sns\n",
    "from sklearn.model_selection import train_test_split\n",
    "from tensorflow.keras.preprocessing.sequence import pad_sequences\n",
    "from tensorflow.keras.preprocessing.text import Tokenizer\n",
    "from tensorflow.keras.utils import to_categorical\n",
    "\n",
    "from fine_structure.language_models.models import rnn_lm"
   ]
  },
  {
   "cell_type": "code",
   "execution_count": 2,
   "metadata": {},
   "outputs": [],
   "source": [
    "DATA_PATH = 'tox21/tox21.csv'\n",
    "\n",
    "config = {}\n",
    "config['max_len'] = 100\n",
    "config['model_params'] = {'rnn_type': 'GRU',\n",
    "                          'embedding_size': None,\n",
    "                          'num_rnn_layers': 1,\n",
    "                          'num_cells': 64,\n",
    "                          'spatial_dropout': 0,\n",
    "                          'optimizer': 'Adam',\n",
    "                          'optimizer_params': {'lr': 1e-2}\n",
    "                         }\n",
    "config['train_params'] = {'batch_size': 16,\n",
    "                          'epochs': 10,\n",
    "                          'validation_split': 0.1}"
   ]
  },
  {
   "cell_type": "markdown",
   "metadata": {},
   "source": [
    "### prepare data"
   ]
  },
  {
   "cell_type": "code",
   "execution_count": 3,
   "metadata": {},
   "outputs": [
    {
     "name": "stdout",
     "output_type": "stream",
     "text": [
      "(7831, 14)\n"
     ]
    },
    {
     "data": {
      "text/html": [
       "<div>\n",
       "<style scoped>\n",
       "    .dataframe tbody tr th:only-of-type {\n",
       "        vertical-align: middle;\n",
       "    }\n",
       "\n",
       "    .dataframe tbody tr th {\n",
       "        vertical-align: top;\n",
       "    }\n",
       "\n",
       "    .dataframe thead th {\n",
       "        text-align: right;\n",
       "    }\n",
       "</style>\n",
       "<table border=\"1\" class=\"dataframe\">\n",
       "  <thead>\n",
       "    <tr style=\"text-align: right;\">\n",
       "      <th></th>\n",
       "      <th>NR-AR</th>\n",
       "      <th>NR-AR-LBD</th>\n",
       "      <th>NR-AhR</th>\n",
       "      <th>NR-Aromatase</th>\n",
       "      <th>NR-ER</th>\n",
       "      <th>NR-ER-LBD</th>\n",
       "      <th>NR-PPAR-gamma</th>\n",
       "      <th>SR-ARE</th>\n",
       "      <th>SR-ATAD5</th>\n",
       "      <th>SR-HSE</th>\n",
       "      <th>SR-MMP</th>\n",
       "      <th>SR-p53</th>\n",
       "      <th>mol_id</th>\n",
       "      <th>smiles</th>\n",
       "    </tr>\n",
       "  </thead>\n",
       "  <tbody>\n",
       "    <tr>\n",
       "      <th>0</th>\n",
       "      <td>0.0</td>\n",
       "      <td>0.0</td>\n",
       "      <td>1.0</td>\n",
       "      <td>NaN</td>\n",
       "      <td>NaN</td>\n",
       "      <td>0.0</td>\n",
       "      <td>0.0</td>\n",
       "      <td>1.0</td>\n",
       "      <td>0.0</td>\n",
       "      <td>0.0</td>\n",
       "      <td>0.0</td>\n",
       "      <td>0.0</td>\n",
       "      <td>TOX3021</td>\n",
       "      <td>CCOc1ccc2nc(S(N)(=O)=O)sc2c1</td>\n",
       "    </tr>\n",
       "    <tr>\n",
       "      <th>1</th>\n",
       "      <td>0.0</td>\n",
       "      <td>0.0</td>\n",
       "      <td>0.0</td>\n",
       "      <td>0.0</td>\n",
       "      <td>0.0</td>\n",
       "      <td>0.0</td>\n",
       "      <td>0.0</td>\n",
       "      <td>NaN</td>\n",
       "      <td>0.0</td>\n",
       "      <td>NaN</td>\n",
       "      <td>0.0</td>\n",
       "      <td>0.0</td>\n",
       "      <td>TOX3020</td>\n",
       "      <td>CCN1C(=O)NC(c2ccccc2)C1=O</td>\n",
       "    </tr>\n",
       "    <tr>\n",
       "      <th>2</th>\n",
       "      <td>NaN</td>\n",
       "      <td>NaN</td>\n",
       "      <td>NaN</td>\n",
       "      <td>NaN</td>\n",
       "      <td>NaN</td>\n",
       "      <td>NaN</td>\n",
       "      <td>NaN</td>\n",
       "      <td>0.0</td>\n",
       "      <td>NaN</td>\n",
       "      <td>0.0</td>\n",
       "      <td>NaN</td>\n",
       "      <td>NaN</td>\n",
       "      <td>TOX3024</td>\n",
       "      <td>CC[C@]1(O)CC[C@H]2[C@@H]3CCC4=CCCC[C@@H]4[C@H]...</td>\n",
       "    </tr>\n",
       "    <tr>\n",
       "      <th>3</th>\n",
       "      <td>0.0</td>\n",
       "      <td>0.0</td>\n",
       "      <td>0.0</td>\n",
       "      <td>0.0</td>\n",
       "      <td>0.0</td>\n",
       "      <td>0.0</td>\n",
       "      <td>0.0</td>\n",
       "      <td>NaN</td>\n",
       "      <td>0.0</td>\n",
       "      <td>NaN</td>\n",
       "      <td>0.0</td>\n",
       "      <td>0.0</td>\n",
       "      <td>TOX3027</td>\n",
       "      <td>CCCN(CC)C(CC)C(=O)Nc1c(C)cccc1C</td>\n",
       "    </tr>\n",
       "    <tr>\n",
       "      <th>4</th>\n",
       "      <td>0.0</td>\n",
       "      <td>0.0</td>\n",
       "      <td>0.0</td>\n",
       "      <td>0.0</td>\n",
       "      <td>0.0</td>\n",
       "      <td>0.0</td>\n",
       "      <td>0.0</td>\n",
       "      <td>0.0</td>\n",
       "      <td>0.0</td>\n",
       "      <td>0.0</td>\n",
       "      <td>0.0</td>\n",
       "      <td>0.0</td>\n",
       "      <td>TOX20800</td>\n",
       "      <td>CC(O)(P(=O)(O)O)P(=O)(O)O</td>\n",
       "    </tr>\n",
       "  </tbody>\n",
       "</table>\n",
       "</div>"
      ],
      "text/plain": [
       "   NR-AR  NR-AR-LBD  NR-AhR  NR-Aromatase  NR-ER  NR-ER-LBD  NR-PPAR-gamma  \\\n",
       "0    0.0        0.0     1.0           NaN    NaN        0.0            0.0   \n",
       "1    0.0        0.0     0.0           0.0    0.0        0.0            0.0   \n",
       "2    NaN        NaN     NaN           NaN    NaN        NaN            NaN   \n",
       "3    0.0        0.0     0.0           0.0    0.0        0.0            0.0   \n",
       "4    0.0        0.0     0.0           0.0    0.0        0.0            0.0   \n",
       "\n",
       "   SR-ARE  SR-ATAD5  SR-HSE  SR-MMP  SR-p53    mol_id  \\\n",
       "0     1.0       0.0     0.0     0.0     0.0   TOX3021   \n",
       "1     NaN       0.0     NaN     0.0     0.0   TOX3020   \n",
       "2     0.0       NaN     0.0     NaN     NaN   TOX3024   \n",
       "3     NaN       0.0     NaN     0.0     0.0   TOX3027   \n",
       "4     0.0       0.0     0.0     0.0     0.0  TOX20800   \n",
       "\n",
       "                                              smiles  \n",
       "0                       CCOc1ccc2nc(S(N)(=O)=O)sc2c1  \n",
       "1                          CCN1C(=O)NC(c2ccccc2)C1=O  \n",
       "2  CC[C@]1(O)CC[C@H]2[C@@H]3CCC4=CCCC[C@@H]4[C@H]...  \n",
       "3                    CCCN(CC)C(CC)C(=O)Nc1c(C)cccc1C  \n",
       "4                          CC(O)(P(=O)(O)O)P(=O)(O)O  "
      ]
     },
     "execution_count": 3,
     "metadata": {},
     "output_type": "execute_result"
    }
   ],
   "source": [
    "df = pd.read_csv(os.path.join(os.environ['FINE_STRUCTURE_DATA'], DATA_PATH))\n",
    "print(df.shape)\n",
    "df.head()"
   ]
  },
  {
   "cell_type": "code",
   "execution_count": 4,
   "metadata": {},
   "outputs": [],
   "source": [
    "text = df.smiles.tolist()"
   ]
  },
  {
   "cell_type": "code",
   "execution_count": 5,
   "metadata": {},
   "outputs": [],
   "source": [
    "def preprocess(text, maxlen, onehot=False):\n",
    "\n",
    "    tokenizer = Tokenizer(filters=False, lower=False, char_level=True)\n",
    "    tokenizer.fit_on_texts(text)\n",
    "    \n",
    "    X = tokenizer.texts_to_sequences(text)\n",
    "    \n",
    "    X = pad_sequences(X, maxlen=maxlen + 1, padding='post', truncating='post')\n",
    "    y = X[:, 1:]\n",
    "    X = X[:, :-1]\n",
    "\n",
    "    y = to_categorical(y)\n",
    "    if onehot:\n",
    "        X = to_categorical(X)\n",
    "    \n",
    "    return X, y, tokenizer"
   ]
  },
  {
   "cell_type": "code",
   "execution_count": 6,
   "metadata": {},
   "outputs": [
    {
     "name": "stdout",
     "output_type": "stream",
     "text": [
      "vocab size:  55\n",
      "X shape: (7831, 100, 56), y shape: (7831, 100, 56)\n"
     ]
    }
   ],
   "source": [
    "if config['model_params']['embedding_size'] is None:\n",
    "    X, y, tokenizer = preprocess(text, maxlen=config['max_len'], onehot=True)\n",
    "else:\n",
    "    X, y, tokenizer = preprocess(text, maxlen=config['max_len'])\n",
    "\n",
    "idx2char = {idx: char for char, idx in tokenizer.word_index.items()}\n",
    "vocab_size = len(tokenizer.word_index)\n",
    "print('vocab size: ', vocab_size)\n",
    "print(f'X shape: {X.shape}, y shape: {y.shape}')"
   ]
  },
  {
   "cell_type": "code",
   "execution_count": 7,
   "metadata": {},
   "outputs": [
    {
     "data": {
      "text/plain": [
       "<matplotlib.axes._subplots.AxesSubplot at 0x7fb84e4edcd0>"
      ]
     },
     "execution_count": 7,
     "metadata": {},
     "output_type": "execute_result"
    },
    {
     "data": {
      "image/png": "[encoded data removed]",
      "text/plain": [
       "<Figure size 1008x288 with 1 Axes>"
      ]
     },
     "metadata": {
      "needs_background": "light"
     },
     "output_type": "display_data"
    }
   ],
   "source": [
    "# char counts\n",
    "pd.Series(tokenizer.word_counts).sort_values(ascending=False).plot(kind='bar', figsize=(14, 4))"
   ]
  },
  {
   "cell_type": "code",
   "execution_count": 8,
   "metadata": {},
   "outputs": [
    {
     "name": "stdout",
     "output_type": "stream",
     "text": [
      "(5481, 100, 56) (2350, 100, 56)\n"
     ]
    }
   ],
   "source": [
    "Xtrain, Xtest, ytrain, ytest = train_test_split(X, y, test_size=0.3, random_state=42)\n",
    "print(Xtrain.shape, Xtest.shape)"
   ]
  },
  {
   "cell_type": "markdown",
   "metadata": {},
   "source": [
    "### train model"
   ]
  },
  {
   "cell_type": "code",
   "execution_count": 9,
   "metadata": {},
   "outputs": [
    {
     "name": "stdout",
     "output_type": "stream",
     "text": [
      "Model: \"model\"\n",
      "_________________________________________________________________\n",
      "Layer (type)                 Output Shape              Param #   \n",
      "=================================================================\n",
      "input_1 (InputLayer)         [(None, 100, 56)]         0         \n",
      "_________________________________________________________________\n",
      "gru (GRU)                    (None, 100, 64)           23424     \n",
      "_________________________________________________________________\n",
      "time_distributed (TimeDistri (None, 100, 56)           3640      \n",
      "=================================================================\n",
      "Total params: 27,064\n",
      "Trainable params: 27,064\n",
      "Non-trainable params: 0\n",
      "_________________________________________________________________\n"
     ]
    }
   ],
   "source": [
    "model = rnn_lm(input_len=ytrain.shape[1], vocab_size=ytrain.shape[2],\n",
    "               **config['model_params'])\n",
    "model.summary()"
   ]
  },
  {
   "cell_type": "code",
   "execution_count": 10,
   "metadata": {},
   "outputs": [
    {
     "name": "stdout",
     "output_type": "stream",
     "text": [
      "Train on 4932 samples, validate on 549 samples\n",
      "Epoch 1/10\n",
      "4932/4932 [==============================] - 9s 2ms/sample - loss: 0.6146 - accuracy: 0.8272 - val_loss: 0.4093 - val_accuracy: 0.8695\n",
      "Epoch 2/10\n",
      "4932/4932 [==============================] - 8s 2ms/sample - loss: 0.3791 - accuracy: 0.8777 - val_loss: 0.3578 - val_accuracy: 0.8816\n",
      "Epoch 3/10\n",
      "4932/4932 [==============================] - 8s 2ms/sample - loss: 0.3428 - accuracy: 0.8875 - val_loss: 0.3381 - val_accuracy: 0.8889\n",
      "Epoch 4/10\n",
      "4932/4932 [==============================] - 9s 2ms/sample - loss: 0.3241 - accuracy: 0.8930 - val_loss: 0.3305 - val_accuracy: 0.8892\n",
      "Epoch 5/10\n",
      "4932/4932 [==============================] - 8s 2ms/sample - loss: 0.3126 - accuracy: 0.8962 - val_loss: 0.3203 - val_accuracy: 0.8927\n",
      "Epoch 6/10\n",
      "4932/4932 [==============================] - 8s 2ms/sample - loss: 0.3061 - accuracy: 0.8984 - val_loss: 0.3166 - val_accuracy: 0.8942\n",
      "Epoch 7/10\n",
      "4932/4932 [==============================] - 8s 2ms/sample - loss: 0.3004 - accuracy: 0.8997 - val_loss: 0.3106 - val_accuracy: 0.8974\n",
      "Epoch 8/10\n",
      "4932/4932 [==============================] - 8s 2ms/sample - loss: 0.2960 - accuracy: 0.9009 - val_loss: 0.3152 - val_accuracy: 0.8949\n",
      "Epoch 9/10\n",
      "4932/4932 [==============================] - 8s 2ms/sample - loss: 0.2922 - accuracy: 0.9022 - val_loss: 0.3133 - val_accuracy: 0.8943\n",
      "Epoch 10/10\n",
      "4932/4932 [==============================] - 8s 2ms/sample - loss: 0.2887 - accuracy: 0.9036 - val_loss: 0.3061 - val_accuracy: 0.8989\n"
     ]
    }
   ],
   "source": [
    "if config['model_params']['embedding_size'] is None:\n",
    "    model.fit(Xtrain, ytrain, **config['train_params'])\n",
    "else:\n",
    "    model.fit(Xtrain, ytrain, **config['train_params'])\n",
    "    \n",
    "pred = model.predict(Xtest)"
   ]
  },
  {
   "cell_type": "markdown",
   "metadata": {},
   "source": [
    "### analyze"
   ]
  },
  {
   "cell_type": "code",
   "execution_count": 24,
   "metadata": {},
   "outputs": [],
   "source": [
    "def postprocess(pred, y):\n",
    "\n",
    "    pred_idx = pred.argmax(axis=-1)\n",
    "    y_idx = y.argmax(axis=-1)\n",
    "    \n",
    "    errors = (pred_idx != y_idx).astype(float)\n",
    "    errors[y_idx == 0] = np.nan\n",
    "    \n",
    "    return pred_idx, y_idx, errors"
   ]
  },
  {
   "cell_type": "markdown",
   "metadata": {},
   "source": [
    "accuracy"
   ]
  },
  {
   "cell_type": "code",
   "execution_count": 13,
   "metadata": {},
   "outputs": [
    {
     "name": "stdout",
     "output_type": "stream",
     "text": [
      "Mean accuracy 0.7057046009932469\n"
     ]
    }
   ],
   "source": [
    "pred_idx, ytest_idx, errors = postprocess(pred, ytest)\n",
    "\n",
    "print('Mean accuracy', 1-np.nanmean(errors))"
   ]
  },
  {
   "cell_type": "code",
   "execution_count": 16,
   "metadata": {},
   "outputs": [
    {
     "data": {
      "text/plain": [
       "[<matplotlib.lines.Line2D at 0x7fb8004b7a90>]"
      ]
     },
     "execution_count": 16,
     "metadata": {},
     "output_type": "execute_result"
    },
    {
     "data": {
      "image/png": "[encoded data removed]",
      "text/plain": [
       "<Figure size 864x288 with 1 Axes>"
      ]
     },
     "metadata": {
      "needs_background": "light"
     },
     "output_type": "display_data"
    }
   ],
   "source": [
    "# mean accuracy  by position\n",
    "plt.figure(figsize=(12,4))\n",
    "plt.plot(1 - np.nanmean(errors, axis=0))"
   ]
  },
  {
   "cell_type": "markdown",
   "metadata": {},
   "source": [
    "char counts"
   ]
  },
  {
   "cell_type": "code",
   "execution_count": 17,
   "metadata": {},
   "outputs": [],
   "source": [
    "def get_char_counts(idx_matrix, idx2char):\n",
    "\n",
    "    unique, counts = np.unique(idx_matrix, return_counts=True)\n",
    "    counts = pd.Series(counts, index=unique)\n",
    "    counts.drop(0, inplace=True)\n",
    "    counts.index = counts.index.map(idx2char)\n",
    "\n",
    "    return counts"
   ]
  },
  {
   "cell_type": "code",
   "execution_count": 18,
   "metadata": {},
   "outputs": [
    {
     "data": {
      "text/plain": [
       "<matplotlib.axes._subplots.AxesSubplot at 0x7fb80043c810>"
      ]
     },
     "execution_count": 18,
     "metadata": {},
     "output_type": "execute_result"
    },
    {
     "data": {
      "image/png": "[encoded data removed]",
      "text/plain": [
       "<Figure size 864x288 with 1 Axes>"
      ]
     },
     "metadata": {
      "needs_background": "light"
     },
     "output_type": "display_data"
    }
   ],
   "source": [
    "pred_char_counts = get_char_counts(pred_idx, idx2char)\n",
    "ytest_char_counts = get_char_counts(ytest_idx, idx2char)\n",
    "\n",
    "char_counts = ytest_char_counts.rename('true').to_frame().join(\n",
    "    pred_char_counts.rename('pred')).fillna(0).astype(int)\n",
    "\n",
    "char_counts.plot(kind='bar', figsize=(12, 4))"
   ]
  },
  {
   "cell_type": "markdown",
   "metadata": {},
   "source": [
    "char counts by posiiton"
   ]
  },
  {
   "cell_type": "code",
   "execution_count": 19,
   "metadata": {},
   "outputs": [],
   "source": [
    "def get_char_counts_by_position(idx_matrix, idx2char):\n",
    "\n",
    "    counts_by_position = pd.DataFrame(idx_matrix).apply(lambda x: x.value_counts(), axis=0).fillna(0)\n",
    "    counts_by_position.drop(0, inplace=True)\n",
    "    counts_by_position.index = counts_by_position.index.map(idx2char)\n",
    "\n",
    "    return counts_by_position"
   ]
  },
  {
   "cell_type": "code",
   "execution_count": 20,
   "metadata": {},
   "outputs": [],
   "source": [
    "ytest_char_counts_by_position = get_char_counts_by_position(ytest_idx, idx2char)\n",
    "pred_char_counts_by_position = get_char_counts_by_position(pred_idx, idx2char)\n",
    "pred_char_counts_by_position = pred_char_counts_by_position.reindex(index=ytest_char_counts_by_position.index).fillna(0)"
   ]
  },
  {
   "cell_type": "code",
   "execution_count": 22,
   "metadata": {},
   "outputs": [
    {
     "data": {
      "text/plain": [
       "<matplotlib.axes._subplots.AxesSubplot at 0x7fb8002135d0>"
      ]
     },
     "execution_count": 22,
     "metadata": {},
     "output_type": "execute_result"
    },
    {
     "data": {
      "image/png": "[encoded data removed]",
      "text/plain": [
       "<Figure size 1080x576 with 2 Axes>"
      ]
     },
     "metadata": {
      "needs_background": "light"
     },
     "output_type": "display_data"
    }
   ],
   "source": [
    "plt.figure(figsize=(15, 8))\n",
    "sns.heatmap(np.log10(ytest_char_counts_by_position + 1), cmap='viridis')"
   ]
  },
  {
   "cell_type": "code",
   "execution_count": 23,
   "metadata": {},
   "outputs": [
    {
     "data": {
      "text/plain": [
       "<matplotlib.axes._subplots.AxesSubplot at 0x7fb8002cae50>"
      ]
     },
     "execution_count": 23,
     "metadata": {},
     "output_type": "execute_result"
    },
    {
     "data": {
      "image/png": "[encoded data removed]",
      "text/plain": [
       "<Figure size 1080x576 with 2 Axes>"
      ]
     },
     "metadata": {
      "needs_background": "light"
     },
     "output_type": "display_data"
    }
   ],
   "source": [
    "plt.figure(figsize=(15, 8))\n",
    "sns.heatmap(pred_char_counts_by_position/ytest_char_counts_by_position - 1, cmap='viridis')"
   ]
  },
  {
   "cell_type": "code",
   "execution_count": null,
   "metadata": {},
   "outputs": [],
   "source": []
  }
 ],
 "metadata": {
  "kernelspec": {
   "display_name": "Python 3.7.4 64-bit ('base': conda)",
   "language": "python",
   "name": "python37464bitbaseconda3f64c15bddba4351859451e1aa17fd9f"
  },
  "language_info": {
   "codemirror_mode": {
    "name": "ipython",
    "version": 3
   },
   "file_extension": ".py",
   "mimetype": "text/x-python",
   "name": "python",
   "nbconvert_exporter": "python",
   "pygments_lexer": "ipython3",
   "version": "3.7.4"
  }
 },
 "nbformat": 4,
 "nbformat_minor": 4
}
