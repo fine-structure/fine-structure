{
 "cells": [
  {
   "cell_type": "code",
   "execution_count": 1,
   "metadata": {},
   "outputs": [
    {
     "name": "stdout",
     "output_type": "stream",
     "text": [
      "Requirement already satisfied: pandas in /Users/pavel/.pyenv/versions/3.7.3/envs/finestr/lib/python3.7/site-packages (1.0.3)\n",
      "Requirement already satisfied: seaborn in /Users/pavel/.pyenv/versions/3.7.3/envs/finestr/lib/python3.7/site-packages (0.10.0)\n",
      "Requirement already satisfied: scikit-learn in /Users/pavel/.pyenv/versions/3.7.3/envs/finestr/lib/python3.7/site-packages (0.22.2.post1)\n",
      "Requirement already satisfied: tensorflow in /Users/pavel/.pyenv/versions/3.7.3/envs/finestr/lib/python3.7/site-packages (2.1.0)\n",
      "Requirement already satisfied: numpy>=1.13.3 in /Users/pavel/.pyenv/versions/3.7.3/envs/finestr/lib/python3.7/site-packages (from pandas) (1.18.2)\n",
      "Requirement already satisfied: pytz>=2017.2 in /Users/pavel/.pyenv/versions/3.7.3/envs/finestr/lib/python3.7/site-packages (from pandas) (2019.3)\n",
      "Requirement already satisfied: python-dateutil>=2.6.1 in /Users/pavel/.pyenv/versions/3.7.3/envs/finestr/lib/python3.7/site-packages (from pandas) (2.8.1)\n",
      "Requirement already satisfied: scipy>=1.0.1 in /Users/pavel/.pyenv/versions/3.7.3/envs/finestr/lib/python3.7/site-packages (from seaborn) (1.4.1)\n",
      "Requirement already satisfied: matplotlib>=2.1.2 in /Users/pavel/.pyenv/versions/3.7.3/envs/finestr/lib/python3.7/site-packages (from seaborn) (3.2.1)\n",
      "Requirement already satisfied: joblib>=0.11 in /Users/pavel/.pyenv/versions/3.7.3/envs/finestr/lib/python3.7/site-packages (from scikit-learn) (0.14.1)\n",
      "Requirement already satisfied: grpcio>=1.8.6 in /Users/pavel/.pyenv/versions/3.7.3/envs/finestr/lib/python3.7/site-packages (from tensorflow) (1.28.1)\n",
      "Requirement already satisfied: absl-py>=0.7.0 in /Users/pavel/.pyenv/versions/3.7.3/envs/finestr/lib/python3.7/site-packages (from tensorflow) (0.9.0)\n",
      "Requirement already satisfied: google-pasta>=0.1.6 in /Users/pavel/.pyenv/versions/3.7.3/envs/finestr/lib/python3.7/site-packages (from tensorflow) (0.2.0)\n",
      "Requirement already satisfied: termcolor>=1.1.0 in /Users/pavel/.pyenv/versions/3.7.3/envs/finestr/lib/python3.7/site-packages (from tensorflow) (1.1.0)\n",
      "Requirement already satisfied: astor>=0.6.0 in /Users/pavel/.pyenv/versions/3.7.3/envs/finestr/lib/python3.7/site-packages (from tensorflow) (0.8.1)\n",
      "Requirement already satisfied: keras-preprocessing>=1.1.0 in /Users/pavel/.pyenv/versions/3.7.3/envs/finestr/lib/python3.7/site-packages (from tensorflow) (1.1.0)\n",
      "Requirement already satisfied: protobuf>=3.8.0 in /Users/pavel/.pyenv/versions/3.7.3/envs/finestr/lib/python3.7/site-packages (from tensorflow) (3.11.3)\n",
      "Requirement already satisfied: six>=1.12.0 in /Users/pavel/.pyenv/versions/3.7.3/envs/finestr/lib/python3.7/site-packages (from tensorflow) (1.14.0)\n",
      "Requirement already satisfied: tensorboard<2.2.0,>=2.1.0 in /Users/pavel/.pyenv/versions/3.7.3/envs/finestr/lib/python3.7/site-packages (from tensorflow) (2.1.1)\n",
      "Requirement already satisfied: tensorflow-estimator<2.2.0,>=2.1.0rc0 in /Users/pavel/.pyenv/versions/3.7.3/envs/finestr/lib/python3.7/site-packages (from tensorflow) (2.1.0)\n",
      "Requirement already satisfied: wheel>=0.26; python_version >= \"3\" in /Users/pavel/.pyenv/versions/3.7.3/envs/finestr/lib/python3.7/site-packages (from tensorflow) (0.34.2)\n",
      "Requirement already satisfied: wrapt>=1.11.1 in /Users/pavel/.pyenv/versions/3.7.3/envs/finestr/lib/python3.7/site-packages (from tensorflow) (1.12.1)\n",
      "Requirement already satisfied: gast==0.2.2 in /Users/pavel/.pyenv/versions/3.7.3/envs/finestr/lib/python3.7/site-packages (from tensorflow) (0.2.2)\n",
      "Requirement already satisfied: keras-applications>=1.0.8 in /Users/pavel/.pyenv/versions/3.7.3/envs/finestr/lib/python3.7/site-packages (from tensorflow) (1.0.8)\n",
      "Requirement already satisfied: opt-einsum>=2.3.2 in /Users/pavel/.pyenv/versions/3.7.3/envs/finestr/lib/python3.7/site-packages (from tensorflow) (3.2.0)\n",
      "Requirement already satisfied: pyparsing!=2.0.4,!=2.1.2,!=2.1.6,>=2.0.1 in /Users/pavel/.pyenv/versions/3.7.3/envs/finestr/lib/python3.7/site-packages (from matplotlib>=2.1.2->seaborn) (2.4.6)\n",
      "Requirement already satisfied: cycler>=0.10 in /Users/pavel/.pyenv/versions/3.7.3/envs/finestr/lib/python3.7/site-packages (from matplotlib>=2.1.2->seaborn) (0.10.0)\n",
      "Requirement already satisfied: kiwisolver>=1.0.1 in /Users/pavel/.pyenv/versions/3.7.3/envs/finestr/lib/python3.7/site-packages (from matplotlib>=2.1.2->seaborn) (1.2.0)\n",
      "Requirement already satisfied: setuptools in /Users/pavel/.pyenv/versions/3.7.3/envs/finestr/lib/python3.7/site-packages (from protobuf>=3.8.0->tensorflow) (46.1.3)\n",
      "Requirement already satisfied: google-auth-oauthlib<0.5,>=0.4.1 in /Users/pavel/.pyenv/versions/3.7.3/envs/finestr/lib/python3.7/site-packages (from tensorboard<2.2.0,>=2.1.0->tensorflow) (0.4.1)\n",
      "Requirement already satisfied: requests<3,>=2.21.0 in /Users/pavel/.pyenv/versions/3.7.3/envs/finestr/lib/python3.7/site-packages (from tensorboard<2.2.0,>=2.1.0->tensorflow) (2.23.0)\n",
      "Requirement already satisfied: werkzeug>=0.11.15 in /Users/pavel/.pyenv/versions/3.7.3/envs/finestr/lib/python3.7/site-packages (from tensorboard<2.2.0,>=2.1.0->tensorflow) (1.0.1)\n",
      "Requirement already satisfied: markdown>=2.6.8 in /Users/pavel/.pyenv/versions/3.7.3/envs/finestr/lib/python3.7/site-packages (from tensorboard<2.2.0,>=2.1.0->tensorflow) (3.2.1)\n",
      "Requirement already satisfied: google-auth<2,>=1.6.3 in /Users/pavel/.pyenv/versions/3.7.3/envs/finestr/lib/python3.7/site-packages (from tensorboard<2.2.0,>=2.1.0->tensorflow) (1.13.1)\n",
      "Requirement already satisfied: h5py in /Users/pavel/.pyenv/versions/3.7.3/envs/finestr/lib/python3.7/site-packages (from keras-applications>=1.0.8->tensorflow) (2.10.0)\n",
      "Requirement already satisfied: requests-oauthlib>=0.7.0 in /Users/pavel/.pyenv/versions/3.7.3/envs/finestr/lib/python3.7/site-packages (from google-auth-oauthlib<0.5,>=0.4.1->tensorboard<2.2.0,>=2.1.0->tensorflow) (1.3.0)\n",
      "Requirement already satisfied: chardet<4,>=3.0.2 in /Users/pavel/.pyenv/versions/3.7.3/envs/finestr/lib/python3.7/site-packages (from requests<3,>=2.21.0->tensorboard<2.2.0,>=2.1.0->tensorflow) (3.0.4)\n",
      "Requirement already satisfied: urllib3!=1.25.0,!=1.25.1,<1.26,>=1.21.1 in /Users/pavel/.pyenv/versions/3.7.3/envs/finestr/lib/python3.7/site-packages (from requests<3,>=2.21.0->tensorboard<2.2.0,>=2.1.0->tensorflow) (1.25.8)\n",
      "Requirement already satisfied: certifi>=2017.4.17 in /Users/pavel/.pyenv/versions/3.7.3/envs/finestr/lib/python3.7/site-packages (from requests<3,>=2.21.0->tensorboard<2.2.0,>=2.1.0->tensorflow) (2020.4.5.1)\n",
      "Requirement already satisfied: idna<3,>=2.5 in /Users/pavel/.pyenv/versions/3.7.3/envs/finestr/lib/python3.7/site-packages (from requests<3,>=2.21.0->tensorboard<2.2.0,>=2.1.0->tensorflow) (2.9)\n",
      "Requirement already satisfied: pyasn1-modules>=0.2.1 in /Users/pavel/.pyenv/versions/3.7.3/envs/finestr/lib/python3.7/site-packages (from google-auth<2,>=1.6.3->tensorboard<2.2.0,>=2.1.0->tensorflow) (0.2.8)\n",
      "Requirement already satisfied: cachetools<5.0,>=2.0.0 in /Users/pavel/.pyenv/versions/3.7.3/envs/finestr/lib/python3.7/site-packages (from google-auth<2,>=1.6.3->tensorboard<2.2.0,>=2.1.0->tensorflow) (4.1.0)\n",
      "Requirement already satisfied: rsa<4.1,>=3.1.4 in /Users/pavel/.pyenv/versions/3.7.3/envs/finestr/lib/python3.7/site-packages (from google-auth<2,>=1.6.3->tensorboard<2.2.0,>=2.1.0->tensorflow) (4.0)\n",
      "Requirement already satisfied: oauthlib>=3.0.0 in /Users/pavel/.pyenv/versions/3.7.3/envs/finestr/lib/python3.7/site-packages (from requests-oauthlib>=0.7.0->google-auth-oauthlib<0.5,>=0.4.1->tensorboard<2.2.0,>=2.1.0->tensorflow) (3.1.0)\n",
      "Requirement already satisfied: pyasn1<0.5.0,>=0.4.6 in /Users/pavel/.pyenv/versions/3.7.3/envs/finestr/lib/python3.7/site-packages (from pyasn1-modules>=0.2.1->google-auth<2,>=1.6.3->tensorboard<2.2.0,>=2.1.0->tensorflow) (0.4.8)\n",
      "\u001b[33mYou are using pip version 19.0.3, however version 20.0.2 is available.\n",
      "You should consider upgrading via the 'pip install --upgrade pip' command.\u001b[0m\n"
     ]
    }
   ],
   "source": [
    "!pip install pandas seaborn scikit-learn tensorflow"
   ]
  },
  {
   "cell_type": "code",
   "execution_count": 2,
   "metadata": {},
   "outputs": [],
   "source": [
    "import os\n",
    "\n",
    "import matplotlib.pyplot as plt\n",
    "%matplotlib inline\n",
    "import numpy as np\n",
    "import pandas as pd\n",
    "import seaborn as sns\n",
    "from sklearn.model_selection import train_test_split\n",
    "from tensorflow.keras.preprocessing.sequence import pad_sequences\n",
    "from tensorflow.keras.preprocessing.text import Tokenizer\n",
    "from tensorflow.keras.utils import to_categorical\n",
    "\n",
    "import sys\n",
    "sys.path.append(os.path.dirname(os.path.dirname(os.getcwd())))\n",
    "\n",
    "from fine_structure.language_models.models import rnn_lm"
   ]
  },
  {
   "cell_type": "code",
   "execution_count": 3,
   "metadata": {},
   "outputs": [],
   "source": [
    "DATA_PATH = 'tox21/tox21.csv'\n",
    "\n",
    "config = {}\n",
    "config['max_len'] = 100\n",
    "config['model_params'] = {'rnn_type': 'GRU',\n",
    "                          'embedding_size': None,\n",
    "                          'num_rnn_layers': 1,\n",
    "                          'num_cells': 64,\n",
    "                          'spatial_dropout': 0,\n",
    "                          'optimizer': 'Adam',\n",
    "                          'optimizer_params': {'lr': 1e-2}\n",
    "                         }\n",
    "config['train_params'] = {'batch_size': 16,\n",
    "                          'epochs': 10,\n",
    "                          'validation_split': 0.1}"
   ]
  },
  {
   "cell_type": "markdown",
   "metadata": {},
   "source": [
    "### prepare data"
   ]
  },
  {
   "cell_type": "code",
   "execution_count": 10,
   "metadata": {},
   "outputs": [],
   "source": [
    "if not os.environ['FINE_STRUCTURE_DATA']:\n",
    "    os.environ['FINE_STRUCTURE_DATA'] = os.path.dirname(os.path.dirname(os.getcwd()))"
   ]
  },
  {
   "cell_type": "code",
   "execution_count": 11,
   "metadata": {},
   "outputs": [
    {
     "name": "stdout",
     "output_type": "stream",
     "text": [
      "(7831, 14)\n"
     ]
    },
    {
     "data": {
      "text/html": [
       "<div>\n",
       "<style scoped>\n",
       "    .dataframe tbody tr th:only-of-type {\n",
       "        vertical-align: middle;\n",
       "    }\n",
       "\n",
       "    .dataframe tbody tr th {\n",
       "        vertical-align: top;\n",
       "    }\n",
       "\n",
       "    .dataframe thead th {\n",
       "        text-align: right;\n",
       "    }\n",
       "</style>\n",
       "<table border=\"1\" class=\"dataframe\">\n",
       "  <thead>\n",
       "    <tr style=\"text-align: right;\">\n",
       "      <th></th>\n",
       "      <th>NR-AR</th>\n",
       "      <th>NR-AR-LBD</th>\n",
       "      <th>NR-AhR</th>\n",
       "      <th>NR-Aromatase</th>\n",
       "      <th>NR-ER</th>\n",
       "      <th>NR-ER-LBD</th>\n",
       "      <th>NR-PPAR-gamma</th>\n",
       "      <th>SR-ARE</th>\n",
       "      <th>SR-ATAD5</th>\n",
       "      <th>SR-HSE</th>\n",
       "      <th>SR-MMP</th>\n",
       "      <th>SR-p53</th>\n",
       "      <th>mol_id</th>\n",
       "      <th>smiles</th>\n",
       "    </tr>\n",
       "  </thead>\n",
       "  <tbody>\n",
       "    <tr>\n",
       "      <th>0</th>\n",
       "      <td>0.0</td>\n",
       "      <td>0.0</td>\n",
       "      <td>1.0</td>\n",
       "      <td>NaN</td>\n",
       "      <td>NaN</td>\n",
       "      <td>0.0</td>\n",
       "      <td>0.0</td>\n",
       "      <td>1.0</td>\n",
       "      <td>0.0</td>\n",
       "      <td>0.0</td>\n",
       "      <td>0.0</td>\n",
       "      <td>0.0</td>\n",
       "      <td>TOX3021</td>\n",
       "      <td>CCOc1ccc2nc(S(N)(=O)=O)sc2c1</td>\n",
       "    </tr>\n",
       "    <tr>\n",
       "      <th>1</th>\n",
       "      <td>0.0</td>\n",
       "      <td>0.0</td>\n",
       "      <td>0.0</td>\n",
       "      <td>0.0</td>\n",
       "      <td>0.0</td>\n",
       "      <td>0.0</td>\n",
       "      <td>0.0</td>\n",
       "      <td>NaN</td>\n",
       "      <td>0.0</td>\n",
       "      <td>NaN</td>\n",
       "      <td>0.0</td>\n",
       "      <td>0.0</td>\n",
       "      <td>TOX3020</td>\n",
       "      <td>CCN1C(=O)NC(c2ccccc2)C1=O</td>\n",
       "    </tr>\n",
       "    <tr>\n",
       "      <th>2</th>\n",
       "      <td>NaN</td>\n",
       "      <td>NaN</td>\n",
       "      <td>NaN</td>\n",
       "      <td>NaN</td>\n",
       "      <td>NaN</td>\n",
       "      <td>NaN</td>\n",
       "      <td>NaN</td>\n",
       "      <td>0.0</td>\n",
       "      <td>NaN</td>\n",
       "      <td>0.0</td>\n",
       "      <td>NaN</td>\n",
       "      <td>NaN</td>\n",
       "      <td>TOX3024</td>\n",
       "      <td>CC[C@]1(O)CC[C@H]2[C@@H]3CCC4=CCCC[C@@H]4[C@H]...</td>\n",
       "    </tr>\n",
       "    <tr>\n",
       "      <th>3</th>\n",
       "      <td>0.0</td>\n",
       "      <td>0.0</td>\n",
       "      <td>0.0</td>\n",
       "      <td>0.0</td>\n",
       "      <td>0.0</td>\n",
       "      <td>0.0</td>\n",
       "      <td>0.0</td>\n",
       "      <td>NaN</td>\n",
       "      <td>0.0</td>\n",
       "      <td>NaN</td>\n",
       "      <td>0.0</td>\n",
       "      <td>0.0</td>\n",
       "      <td>TOX3027</td>\n",
       "      <td>CCCN(CC)C(CC)C(=O)Nc1c(C)cccc1C</td>\n",
       "    </tr>\n",
       "    <tr>\n",
       "      <th>4</th>\n",
       "      <td>0.0</td>\n",
       "      <td>0.0</td>\n",
       "      <td>0.0</td>\n",
       "      <td>0.0</td>\n",
       "      <td>0.0</td>\n",
       "      <td>0.0</td>\n",
       "      <td>0.0</td>\n",
       "      <td>0.0</td>\n",
       "      <td>0.0</td>\n",
       "      <td>0.0</td>\n",
       "      <td>0.0</td>\n",
       "      <td>0.0</td>\n",
       "      <td>TOX20800</td>\n",
       "      <td>CC(O)(P(=O)(O)O)P(=O)(O)O</td>\n",
       "    </tr>\n",
       "  </tbody>\n",
       "</table>\n",
       "</div>"
      ],
      "text/plain": [
       "   NR-AR  NR-AR-LBD  NR-AhR  NR-Aromatase  NR-ER  NR-ER-LBD  NR-PPAR-gamma  \\\n",
       "0    0.0        0.0     1.0           NaN    NaN        0.0            0.0   \n",
       "1    0.0        0.0     0.0           0.0    0.0        0.0            0.0   \n",
       "2    NaN        NaN     NaN           NaN    NaN        NaN            NaN   \n",
       "3    0.0        0.0     0.0           0.0    0.0        0.0            0.0   \n",
       "4    0.0        0.0     0.0           0.0    0.0        0.0            0.0   \n",
       "\n",
       "   SR-ARE  SR-ATAD5  SR-HSE  SR-MMP  SR-p53    mol_id  \\\n",
       "0     1.0       0.0     0.0     0.0     0.0   TOX3021   \n",
       "1     NaN       0.0     NaN     0.0     0.0   TOX3020   \n",
       "2     0.0       NaN     0.0     NaN     NaN   TOX3024   \n",
       "3     NaN       0.0     NaN     0.0     0.0   TOX3027   \n",
       "4     0.0       0.0     0.0     0.0     0.0  TOX20800   \n",
       "\n",
       "                                              smiles  \n",
       "0                       CCOc1ccc2nc(S(N)(=O)=O)sc2c1  \n",
       "1                          CCN1C(=O)NC(c2ccccc2)C1=O  \n",
       "2  CC[C@]1(O)CC[C@H]2[C@@H]3CCC4=CCCC[C@@H]4[C@H]...  \n",
       "3                    CCCN(CC)C(CC)C(=O)Nc1c(C)cccc1C  \n",
       "4                          CC(O)(P(=O)(O)O)P(=O)(O)O  "
      ]
     },
     "execution_count": 11,
     "metadata": {},
     "output_type": "execute_result"
    }
   ],
   "source": [
    "df = pd.read_csv(os.path.join(os.environ['FINE_STRUCTURE_DATA'], DATA_PATH))\n",
    "print((df.shape))\n",
    "df.head()"
   ]
  },
  {
   "cell_type": "code",
   "execution_count": 94,
   "metadata": {},
   "outputs": [
    {
     "data": {
      "text/plain": [
       "['CCOc1ccc2nc(S(N)(=O)=O)sc2c1',\n",
       " 'CCN1C(=O)NC(c2ccccc2)C1=O',\n",
       " 'CC[C@]1(O)CC[C@H]2[C@@H]3CCC4=CCCC[C@@H]4[C@H]3CC[C@@]21C',\n",
       " 'CCCN(CC)C(CC)C(=O)Nc1c(C)cccc1C',\n",
       " 'CC(O)(P(=O)(O)O)P(=O)(O)O',\n",
       " 'CC(C)(C)OOC(C)(C)CCC(C)(C)OOC(C)(C)C',\n",
       " 'O=S(=O)(Cl)c1ccccc1',\n",
       " 'O=C(O)Cc1cc(I)c(Oc2ccc(O)c(I)c2)c(I)c1',\n",
       " 'OC[C@H](O)[C@@H](O)[C@H](O)CO',\n",
       " 'CCCCCCCC(=O)[O-].CCCCCCCC(=O)[O-].[Zn+2]']"
      ]
     },
     "execution_count": 94,
     "metadata": {},
     "output_type": "execute_result"
    },
    {
     "data": {
      "image/png": "[encoded data removed]",
      "text/plain": [
       "<Figure size 432x288 with 1 Axes>"
      ]
     },
     "metadata": {
      "needs_background": "light"
     },
     "output_type": "display_data"
    }
   ],
   "source": [
    "text = df.smiles.tolist()\n",
    "\n",
    "plt.hist([len(t) for t in text], bins=25)\n",
    "\n",
    "text[:10]"
   ]
  },
  {
   "cell_type": "code",
   "execution_count": 83,
   "metadata": {},
   "outputs": [
    {
     "data": {
      "image/png": "[encoded data removed]",
      "text/plain": [
       "<Figure size 432x288 with 1 Axes>"
      ]
     },
     "metadata": {
      "needs_background": "light"
     },
     "output_type": "display_data"
    }
   ],
   "source": [
    "cycle_counts = [sum(c.isnumeric() for c in t)/2 for t in text]\n",
    "\n",
    "plt.hist(cycle_counts, bins=20)\n",
    "\n",
    "cycle_strats = [c < 2 for c in cycle_counts]"
   ]
  },
  {
   "cell_type": "code",
   "execution_count": 17,
   "metadata": {},
   "outputs": [],
   "source": [
    "def preprocess(text, maxlen, onehot=False):\n",
    "\n",
    "    tokenizer = Tokenizer(filters=False, lower=False, char_level=True)\n",
    "    tokenizer.fit_on_texts(text)\n",
    "    \n",
    "    X = tokenizer.texts_to_sequences(text)\n",
    "    \n",
    "    X = pad_sequences(X, maxlen=maxlen + 1, padding='post', truncating='post')\n",
    "    y = X[:, 1:]\n",
    "    X = X[:, :-1]\n",
    "\n",
    "    y = to_categorical(y)\n",
    "    if onehot:\n",
    "        X = to_categorical(X)\n",
    "    \n",
    "    return X, y, tokenizer"
   ]
  },
  {
   "cell_type": "code",
   "execution_count": 18,
   "metadata": {},
   "outputs": [
    {
     "name": "stdout",
     "output_type": "stream",
     "text": [
      "vocab size:  55\n",
      "X shape: (7831, 100, 56), y shape: (7831, 100, 56)\n"
     ]
    }
   ],
   "source": [
    "if config['model_params']['embedding_size'] is None:\n",
    "    X, y, tokenizer = preprocess(text, maxlen=config['max_len'], onehot=True)\n",
    "else:\n",
    "    X, y, tokenizer = preprocess(text, maxlen=config['max_len'])\n",
    "\n",
    "idx2char = {idx: char for char, idx in list(tokenizer.word_index.items())}\n",
    "vocab_size = len(tokenizer.word_index)\n",
    "print(('vocab size: ', vocab_size))\n",
    "print(f'X shape: {X.shape}, y shape: {y.shape}')"
   ]
  },
  {
   "cell_type": "code",
   "execution_count": 19,
   "metadata": {},
   "outputs": [
    {
     "data": {
      "text/plain": [
       "<matplotlib.axes._subplots.AxesSubplot at 0x11d526dd8>"
      ]
     },
     "execution_count": 19,
     "metadata": {},
     "output_type": "execute_result"
    },
    {
     "data": {
      "image/png": "[encoded data removed]",
      "text/plain": [
       "<Figure size 1008x288 with 1 Axes>"
      ]
     },
     "metadata": {
      "needs_background": "light"
     },
     "output_type": "display_data"
    }
   ],
   "source": [
    "# char counts\n",
    "pd.Series(tokenizer.word_counts).sort_values(ascending=False).plot(kind='bar', figsize=(14, 4))"
   ]
  },
  {
   "cell_type": "code",
   "execution_count": 84,
   "metadata": {},
   "outputs": [
    {
     "name": "stdout",
     "output_type": "stream",
     "text": [
      "(5481, 100, 56) (2350, 100, 56)\n"
     ]
    }
   ],
   "source": [
    "Xtrain, Xtest, ytrain, ytest = train_test_split(X, y, test_size=0.3, random_state=42, stratify=cycle_strats)\n",
    "print((Xtrain.shape, Xtest.shape))"
   ]
  },
  {
   "cell_type": "code",
   "execution_count": null,
   "metadata": {},
   "outputs": [],
   "source": []
  },
  {
   "cell_type": "markdown",
   "metadata": {},
   "source": [
    "### train model"
   ]
  },
  {
   "cell_type": "code",
   "execution_count": 85,
   "metadata": {},
   "outputs": [
    {
     "name": "stdout",
     "output_type": "stream",
     "text": [
      "Model: \"model_2\"\n",
      "_________________________________________________________________\n",
      "Layer (type)                 Output Shape              Param #   \n",
      "=================================================================\n",
      "input_3 (InputLayer)         [(None, 100, 56)]         0         \n",
      "_________________________________________________________________\n",
      "gru_2 (GRU)                  (None, 100, 64)           23424     \n",
      "_________________________________________________________________\n",
      "time_distributed_2 (TimeDist (None, 100, 56)           3640      \n",
      "=================================================================\n",
      "Total params: 27,064\n",
      "Trainable params: 27,064\n",
      "Non-trainable params: 0\n",
      "_________________________________________________________________\n"
     ]
    }
   ],
   "source": [
    "model = rnn_lm(input_len=ytrain.shape[1], vocab_size=ytrain.shape[2],\n",
    "               **config['model_params'])\n",
    "model.summary()"
   ]
  },
  {
   "cell_type": "code",
   "execution_count": 86,
   "metadata": {},
   "outputs": [
    {
     "name": "stdout",
     "output_type": "stream",
     "text": [
      "Train on 4932 samples, validate on 549 samples\n",
      "Epoch 1/10\n",
      "4932/4932 [==============================] - 13s 3ms/sample - loss: 0.5921 - accuracy: 0.8325 - val_loss: 0.3897 - val_accuracy: 0.8746\n",
      "Epoch 2/10\n",
      "4932/4932 [==============================] - 11s 2ms/sample - loss: 0.3768 - accuracy: 0.8774 - val_loss: 0.3443 - val_accuracy: 0.8877\n",
      "Epoch 3/10\n",
      "4932/4932 [==============================] - 11s 2ms/sample - loss: 0.3436 - accuracy: 0.8863 - val_loss: 0.3255 - val_accuracy: 0.8922\n",
      "Epoch 4/10\n",
      "4932/4932 [==============================] - 11s 2ms/sample - loss: 0.3259 - accuracy: 0.8921 - val_loss: 0.3165 - val_accuracy: 0.8935\n",
      "Epoch 5/10\n",
      "4932/4932 [==============================] - 12s 2ms/sample - loss: 0.3148 - accuracy: 0.8953 - val_loss: 0.3093 - val_accuracy: 0.8961\n",
      "Epoch 6/10\n",
      "4932/4932 [==============================] - 12s 2ms/sample - loss: 0.3069 - accuracy: 0.8979 - val_loss: 0.3057 - val_accuracy: 0.8985\n",
      "Epoch 7/10\n",
      "4932/4932 [==============================] - 12s 2ms/sample - loss: 0.3010 - accuracy: 0.8996 - val_loss: 0.3019 - val_accuracy: 0.8990\n",
      "Epoch 8/10\n",
      "4932/4932 [==============================] - 12s 2ms/sample - loss: 0.2973 - accuracy: 0.9008 - val_loss: 0.2999 - val_accuracy: 0.9001\n",
      "Epoch 9/10\n",
      "4932/4932 [==============================] - 12s 2ms/sample - loss: 0.2932 - accuracy: 0.9023 - val_loss: 0.2975 - val_accuracy: 0.9016\n",
      "Epoch 10/10\n",
      "4932/4932 [==============================] - 12s 2ms/sample - loss: 0.2909 - accuracy: 0.9030 - val_loss: 0.2998 - val_accuracy: 0.9004\n"
     ]
    }
   ],
   "source": [
    "if config['model_params']['embedding_size'] is None:\n",
    "    model.fit(Xtrain, ytrain, **config['train_params'])\n",
    "else:\n",
    "    model.fit(Xtrain, ytrain, **config['train_params'])\n",
    "    \n",
    "pred = model.predict(Xtest)"
   ]
  },
  {
   "cell_type": "markdown",
   "metadata": {},
   "source": [
    "### analyze"
   ]
  },
  {
   "cell_type": "code",
   "execution_count": 87,
   "metadata": {},
   "outputs": [],
   "source": [
    "def postprocess(pred, y):\n",
    "\n",
    "    pred_idx = pred.argmax(axis=-1)\n",
    "    y_idx = y.argmax(axis=-1)\n",
    "    \n",
    "    errors = (pred_idx != y_idx).astype(float)\n",
    "    errors[y_idx == 0] = np.nan\n",
    "    \n",
    "    return pred_idx, y_idx, errors"
   ]
  },
  {
   "cell_type": "markdown",
   "metadata": {},
   "source": [
    "accuracy"
   ]
  },
  {
   "cell_type": "code",
   "execution_count": 88,
   "metadata": {},
   "outputs": [
    {
     "name": "stdout",
     "output_type": "stream",
     "text": [
      "Mean accuracy 0.7004699833818031\n"
     ]
    }
   ],
   "source": [
    "pred_idx, ytest_idx, errors = postprocess(pred, ytest)\n",
    "\n",
    "print(('Mean accuracy', 1-np.nanmean(errors)))"
   ]
  },
  {
   "cell_type": "code",
   "execution_count": 131,
   "metadata": {},
   "outputs": [
    {
     "data": {
      "text/plain": [
       "[<matplotlib.lines.Line2D at 0x160167c18>]"
      ]
     },
     "execution_count": 131,
     "metadata": {},
     "output_type": "execute_result"
    },
    {
     "data": {
      "image/png": "[encoded data removed]",
      "text/plain": [
       "<Figure size 864x288 with 1 Axes>"
      ]
     },
     "metadata": {
      "needs_background": "light"
     },
     "output_type": "display_data"
    }
   ],
   "source": [
    "# mean accuracy  by position\n",
    "plt.figure(figsize=(12,4))\n",
    "plot_acc = 1 - np.nanmean(errors, axis=0)\n",
    "plt.plot(plot_acc)\n",
    "\n",
    "plot_std = np.nanstd(errors, axis=0)\n",
    "plt.fill_between(range(100), plot_acc-plot_std, plot_acc+plot_std)\n",
    "plt.plot(plot_acc)\n",
    "\n",
    "# fraction of seqenies with such len\n",
    "plt.plot(np.nanmean([np.concatenate([np.ones(len(t)), np.zeros(errors.shape[1])])[:errors.shape[1]] for t in text], axis=0))"
   ]
  },
  {
   "cell_type": "markdown",
   "metadata": {},
   "source": [
    "char counts"
   ]
  },
  {
   "cell_type": "code",
   "execution_count": 90,
   "metadata": {},
   "outputs": [],
   "source": [
    "def get_char_counts(idx_matrix, idx2char):\n",
    "\n",
    "    unique, counts = np.unique(idx_matrix, return_counts=True)\n",
    "    counts = pd.Series(counts, index=unique)\n",
    "    counts.drop(0, inplace=True)\n",
    "    counts.index = counts.index.map(idx2char)\n",
    "\n",
    "    return counts"
   ]
  },
  {
   "cell_type": "code",
   "execution_count": 91,
   "metadata": {},
   "outputs": [
    {
     "data": {
      "text/plain": [
       "<matplotlib.axes._subplots.AxesSubplot at 0x1822cd390>"
      ]
     },
     "execution_count": 91,
     "metadata": {},
     "output_type": "execute_result"
    },
    {
     "data": {
      "image/png": "[encoded data removed]",
      "text/plain": [
       "<Figure size 864x288 with 1 Axes>"
      ]
     },
     "metadata": {
      "needs_background": "light"
     },
     "output_type": "display_data"
    }
   ],
   "source": [
    "pred_char_counts = get_char_counts(pred_idx, idx2char)\n",
    "ytest_char_counts = get_char_counts(ytest_idx, idx2char)\n",
    "\n",
    "char_counts = ytest_char_counts.rename('true').to_frame().join(\n",
    "    pred_char_counts.rename('pred')).fillna(0).astype(int)\n",
    "\n",
    "char_counts.plot(kind='bar', figsize=(12, 4))"
   ]
  },
  {
   "cell_type": "markdown",
   "metadata": {},
   "source": [
    "char counts by posiiton"
   ]
  },
  {
   "cell_type": "code",
   "execution_count": 67,
   "metadata": {},
   "outputs": [],
   "source": [
    "def get_char_counts_by_position(idx_matrix, idx2char):\n",
    "\n",
    "    counts_by_position = pd.DataFrame(idx_matrix).apply(lambda x: x.value_counts(), axis=0).fillna(0)\n",
    "    counts_by_position.drop(0, inplace=True)\n",
    "    counts_by_position.index = counts_by_position.index.map(idx2char)\n",
    "\n",
    "    return counts_by_position"
   ]
  },
  {
   "cell_type": "code",
   "execution_count": 68,
   "metadata": {},
   "outputs": [],
   "source": [
    "ytest_char_counts_by_position = get_char_counts_by_position(ytest_idx, idx2char)\n",
    "pred_char_counts_by_position = get_char_counts_by_position(pred_idx, idx2char)\n",
    "pred_char_counts_by_position = pred_char_counts_by_position.reindex(index=ytest_char_counts_by_position.index).fillna(0)"
   ]
  },
  {
   "cell_type": "code",
   "execution_count": 69,
   "metadata": {},
   "outputs": [
    {
     "data": {
      "text/plain": [
       "<matplotlib.axes._subplots.AxesSubplot at 0x152c9b780>"
      ]
     },
     "execution_count": 69,
     "metadata": {},
     "output_type": "execute_result"
    },
    {
     "data": {
      "image/png": "[encoded data removed]",
      "text/plain": [
       "<Figure size 1080x576 with 2 Axes>"
      ]
     },
     "metadata": {
      "needs_background": "light"
     },
     "output_type": "display_data"
    }
   ],
   "source": [
    "plt.figure(figsize=(15, 8))\n",
    "# sns.heatmap(np.log10(ytest_char_counts_by_position + 1), cmap='viridis')\n",
    "sns.heatmap((ytest_char_counts_by_position), cmap='viridis')"
   ]
  },
  {
   "cell_type": "code",
   "execution_count": 70,
   "metadata": {},
   "outputs": [
    {
     "data": {
      "text/plain": [
       "<matplotlib.axes._subplots.AxesSubplot at 0x152d2b470>"
      ]
     },
     "execution_count": 70,
     "metadata": {},
     "output_type": "execute_result"
    },
    {
     "data": {
      "image/png": "[encoded data removed]",
      "text/plain": [
       "<Figure size 1080x576 with 2 Axes>"
      ]
     },
     "metadata": {
      "needs_background": "light"
     },
     "output_type": "display_data"
    }
   ],
   "source": [
    "plt.figure(figsize=(15, 8))\n",
    "sns.heatmap(pred_char_counts_by_position/ytest_char_counts_by_position - 1, cmap='viridis')"
   ]
  },
  {
   "cell_type": "code",
   "execution_count": null,
   "metadata": {},
   "outputs": [],
   "source": []
  }
 ],
 "metadata": {
  "kernelspec": {
   "display_name": "Python 3",
   "language": "python",
   "name": "python3"
  },
  "language_info": {
   "codemirror_mode": {
    "name": "ipython",
    "version": 3
   },
   "file_extension": ".py",
   "mimetype": "text/x-python",
   "name": "python",
   "nbconvert_exporter": "python",
   "pygments_lexer": "ipython3",
   "version": "3.7.3"
  }
 },
 "nbformat": 4,
 "nbformat_minor": 4
}
